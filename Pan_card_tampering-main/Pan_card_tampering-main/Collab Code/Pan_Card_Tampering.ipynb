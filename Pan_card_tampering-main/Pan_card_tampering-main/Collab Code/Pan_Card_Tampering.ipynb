{
  "cells": [
    {
      "cell_type": "markdown",
      "metadata": {
        "id": "15GUgEmTKCxh"
      },
      "source": [
        "## PAN Card Tampering Detection"
      ]
    },
    {
      "cell_type": "markdown",
      "metadata": {
        "id": "W0r364qUKCxj"
      },
      "source": [
        "#### The purpose of this project is to detect tampering of PAN card using computer vision. This project will help different organization in detecting whether the Id i.e. the PAN card provided to them by thier employees or customers or anyone is original or not."
      ]
    },
    {
      "cell_type": "markdown",
      "metadata": {
        "id": "F7EOYnghKCxk"
      },
      "source": [
        "#### For this project we will calculate structural similarity of original PAN card and the PAN card uploaded by user."
      ]
    },
    {
      "cell_type": "code",
      "execution_count": null,
      "metadata": {
        "id": "2wH3HcCwKCxk"
      },
      "outputs": [
        {
          "ename": "",
          "evalue": "",
          "output_type": "error",
          "traceback": [
            "\u001b[1;31mRunning cells with 'Python 3.10.8 64-bit (microsoft store)' requires ipykernel package.\n",
            "\u001b[1;31mRun the following command to install 'ipykernel' into the Python environment. \n",
            "\u001b[1;31mCommand: '\"c:/Users/DIVYA RAO/AppData/Local/Microsoft/WindowsApps/python3.10.exe\" -m pip install ipykernel -U --force-reinstall'"
          ]
        }
      ],
      "source": [
        "# import the necessary packages\n",
        "from skimage.metrics import structural_similarity\n",
        "import imutils\n",
        "import cv2\n",
        "from PIL import Image\n",
        "import requests"
      ]
    },
    {
      "cell_type": "code",
      "execution_count": null,
      "metadata": {
        "id": "a_62dTgoyF_3"
      },
      "outputs": [
        {
          "ename": "",
          "evalue": "",
          "output_type": "error",
          "traceback": [
            "\u001b[1;31mRunning cells with 'Python 3.10.8 64-bit (microsoft store)' requires ipykernel package.\n",
            "\u001b[1;31mRun the following command to install 'ipykernel' into the Python environment. \n",
            "\u001b[1;31mCommand: '\"c:/Users/DIVYA RAO/AppData/Local/Microsoft/WindowsApps/python3.10.exe\" -m pip install ipykernel -U --force-reinstall'"
          ]
        }
      ],
      "source": [
        "!mkdir pan_card_tampering\n",
        "!mkdir pan_card_tampering/image"
      ]
    },
    {
      "cell_type": "code",
      "execution_count": null,
      "metadata": {
        "id": "t9jG0T6gKCxl"
      },
      "outputs": [
        {
          "ename": "",
          "evalue": "",
          "output_type": "error",
          "traceback": [
            "\u001b[1;31mRunning cells with 'Python 3.10.8 64-bit (microsoft store)' requires ipykernel package.\n",
            "\u001b[1;31mRun the following command to install 'ipykernel' into the Python environment. \n",
            "\u001b[1;31mCommand: '\"c:/Users/DIVYA RAO/AppData/Local/Microsoft/WindowsApps/python3.10.exe\" -m pip install ipykernel -U --force-reinstall'"
          ]
        }
      ],
      "source": [
        "# Open image and display\n",
        "original = Image.open(requests.get('https://www.thestatesman.com/wp-content/uploads/2019/07/pan-card.jpg', stream=True).raw)\n",
        "tampered = Image.open(requests.get('https://assets1.cleartax-cdn.com/s/img/20170526124335/Pan4.png', stream=True).raw) "
      ]
    },
    {
      "cell_type": "markdown",
      "metadata": {
        "id": "JQVLkSpRKCxl"
      },
      "source": [
        "#### Loading original and user provided images."
      ]
    },
    {
      "cell_type": "code",
      "execution_count": null,
      "metadata": {
        "colab": {
          "base_uri": "https://localhost:8080/"
        },
        "id": "rnNu5yHdKCxo",
        "outputId": "980a4da1-da2f-4866-928b-bbd513cf76a1"
      },
      "outputs": [
        {
          "ename": "",
          "evalue": "",
          "output_type": "error",
          "traceback": [
            "\u001b[1;31mRunning cells with 'Python 3.10.8 64-bit (microsoft store)' requires ipykernel package.\n",
            "\u001b[1;31mRun the following command to install 'ipykernel' into the Python environment. \n",
            "\u001b[1;31mCommand: '\"c:/Users/DIVYA RAO/AppData/Local/Microsoft/WindowsApps/python3.10.exe\" -m pip install ipykernel -U --force-reinstall'"
          ]
        }
      ],
      "source": [
        "# The file format of the source file.\n",
        "print(\"Original image format : \",original.format) \n",
        "print(\"Tampered image format : \",tampered.format)\n",
        "\n",
        "# Image size, in pixels. The size is given as a 2-tuple (width, height).\n",
        "print(\"Original image size : \",original.size) \n",
        "print(\"Tampered image size : \",tampered.size) "
      ]
    },
    {
      "cell_type": "markdown",
      "metadata": {
        "id": "iYJUY_oyKCxp"
      },
      "source": [
        "#### Converting the format of  tampered image similar to original image."
      ]
    },
    {
      "cell_type": "code",
      "execution_count": null,
      "metadata": {
        "colab": {
          "base_uri": "https://localhost:8080/"
        },
        "id": "kRP_D-WXKCxq",
        "outputId": "af826970-b785-4f8b-8d06-4883aa6a2343"
      },
      "outputs": [
        {
          "ename": "",
          "evalue": "",
          "output_type": "error",
          "traceback": [
            "\u001b[1;31mRunning cells with 'Python 3.10.8 64-bit (microsoft store)' requires ipykernel package.\n",
            "\u001b[1;31mRun the following command to install 'ipykernel' into the Python environment. \n",
            "\u001b[1;31mCommand: '\"c:/Users/DIVYA RAO/AppData/Local/Microsoft/WindowsApps/python3.10.exe\" -m pip install ipykernel -U --force-reinstall'"
          ]
        }
      ],
      "source": [
        "# Resize Image\n",
        "original = original.resize((250, 160))\n",
        "print(original.size)\n",
        "original.save('pan_card_tampering/image/original.png')#Save image\n",
        "tampered = tampered.resize((250,160))\n",
        "print(tampered.size)\n",
        "tampered.save('pan_card_tampering/image/tampered.png')#Saves image"
      ]
    },
    {
      "cell_type": "markdown",
      "metadata": {
        "id": "TFCJuvVdKCxo"
      },
      "source": [
        "####  Here, we checked the format and size of the original and tampered image."
      ]
    },
    {
      "cell_type": "code",
      "execution_count": null,
      "metadata": {
        "id": "s4SvyoMWKCxp"
      },
      "outputs": [
        {
          "ename": "",
          "evalue": "",
          "output_type": "error",
          "traceback": [
            "\u001b[1;31mRunning cells with 'Python 3.10.8 64-bit (microsoft store)' requires ipykernel package.\n",
            "\u001b[1;31mRun the following command to install 'ipykernel' into the Python environment. \n",
            "\u001b[1;31mCommand: '\"c:/Users/DIVYA RAO/AppData/Local/Microsoft/WindowsApps/python3.10.exe\" -m pip install ipykernel -U --force-reinstall'"
          ]
        }
      ],
      "source": [
        "# Change image type if required from png to jpg\n",
        "tampered = Image.open('pan_card_tampering/image/tampered.png')\n",
        "tampered.save('pan_card_tampering/image/tampered.png')#can do png to jpg"
      ]
    },
    {
      "cell_type": "markdown",
      "metadata": {
        "id": "KSjxpFJaKCxq"
      },
      "source": [
        "#### Converting the size of tampered and original image."
      ]
    },
    {
      "cell_type": "code",
      "execution_count": null,
      "metadata": {
        "colab": {
          "base_uri": "https://localhost:8080/",
          "height": 177
        },
        "id": "PNwLiY84KCxm",
        "outputId": "92a7a9ca-6e28-49db-c6e2-df9f8db3fb63"
      },
      "outputs": [
        {
          "ename": "",
          "evalue": "",
          "output_type": "error",
          "traceback": [
            "\u001b[1;31mRunning cells with 'Python 3.10.8 64-bit (microsoft store)' requires ipykernel package.\n",
            "\u001b[1;31mRun the following command to install 'ipykernel' into the Python environment. \n",
            "\u001b[1;31mCommand: '\"c:/Users/DIVYA RAO/AppData/Local/Microsoft/WindowsApps/python3.10.exe\" -m pip install ipykernel -U --force-reinstall'"
          ]
        }
      ],
      "source": [
        "# Display original image\n",
        "original"
      ]
    },
    {
      "cell_type": "markdown",
      "metadata": {
        "id": "9sP20HDdKCxm"
      },
      "source": [
        "#### Orginial PAN card image used for comparision."
      ]
    },
    {
      "cell_type": "code",
      "execution_count": null,
      "metadata": {
        "colab": {
          "base_uri": "https://localhost:8080/",
          "height": 177
        },
        "id": "9HmXPtRAKCxn",
        "outputId": "576830e9-a4a1-4237-b944-9a8096a1c617"
      },
      "outputs": [
        {
          "ename": "",
          "evalue": "",
          "output_type": "error",
          "traceback": [
            "\u001b[1;31mRunning cells with 'Python 3.10.8 64-bit (microsoft store)' requires ipykernel package.\n",
            "\u001b[1;31mRun the following command to install 'ipykernel' into the Python environment. \n",
            "\u001b[1;31mCommand: '\"c:/Users/DIVYA RAO/AppData/Local/Microsoft/WindowsApps/python3.10.exe\" -m pip install ipykernel -U --force-reinstall'"
          ]
        }
      ],
      "source": [
        "# Display user given image\n",
        "tampered"
      ]
    },
    {
      "cell_type": "markdown",
      "metadata": {
        "id": "_e8u-oUNKCxn"
      },
      "source": [
        "#### User provided image which will be compared with PAN card."
      ]
    },
    {
      "cell_type": "code",
      "execution_count": null,
      "metadata": {
        "id": "XzJpYmBrKCxr"
      },
      "outputs": [
        {
          "ename": "",
          "evalue": "",
          "output_type": "error",
          "traceback": [
            "\u001b[1;31mRunning cells with 'Python 3.10.8 64-bit (microsoft store)' requires ipykernel package.\n",
            "\u001b[1;31mRun the following command to install 'ipykernel' into the Python environment. \n",
            "\u001b[1;31mCommand: '\"c:/Users/DIVYA RAO/AppData/Local/Microsoft/WindowsApps/python3.10.exe\" -m pip install ipykernel -U --force-reinstall'"
          ]
        }
      ],
      "source": [
        "# load the two input images\n",
        "original = cv2.imread('pan_card_tampering/image/original.png')\n",
        "tampered = cv2.imread('pan_card_tampering/image/tampered.png')"
      ]
    },
    {
      "cell_type": "markdown",
      "metadata": {
        "id": "hMiNC5D9KCxr"
      },
      "source": [
        "#### Reading images using opencv."
      ]
    },
    {
      "cell_type": "code",
      "execution_count": null,
      "metadata": {
        "id": "oSlQrNSUKCxr"
      },
      "outputs": [
        {
          "ename": "",
          "evalue": "",
          "output_type": "error",
          "traceback": [
            "\u001b[1;31mRunning cells with 'Python 3.10.8 64-bit (microsoft store)' requires ipykernel package.\n",
            "\u001b[1;31mRun the following command to install 'ipykernel' into the Python environment. \n",
            "\u001b[1;31mCommand: '\"c:/Users/DIVYA RAO/AppData/Local/Microsoft/WindowsApps/python3.10.exe\" -m pip install ipykernel -U --force-reinstall'"
          ]
        }
      ],
      "source": [
        "# Convert the images to grayscale\n",
        "original_gray = cv2.cvtColor(original, cv2.COLOR_BGR2GRAY)\n",
        "tampered_gray = cv2.cvtColor(tampered, cv2.COLOR_BGR2GRAY)"
      ]
    },
    {
      "cell_type": "markdown",
      "metadata": {
        "id": "T8C00E3rKCxr"
      },
      "source": [
        "#### Converting images into grayscale using opencv. Because in image processing many applications doesn't help us in identifying the important, edges of the coloured images also coloured images are bit complex to understand by machine beacuse they have 3 channel while grayscale has only 1 channel.  "
      ]
    },
    {
      "cell_type": "code",
      "execution_count": null,
      "metadata": {
        "colab": {
          "base_uri": "https://localhost:8080/"
        },
        "id": "2-Q3iyZ1KCxs",
        "outputId": "43057a54-b5d8-4db7-984d-fb65c0b6d20b"
      },
      "outputs": [
        {
          "ename": "",
          "evalue": "",
          "output_type": "error",
          "traceback": [
            "\u001b[1;31mRunning cells with 'Python 3.10.8 64-bit (microsoft store)' requires ipykernel package.\n",
            "\u001b[1;31mRun the following command to install 'ipykernel' into the Python environment. \n",
            "\u001b[1;31mCommand: '\"c:/Users/DIVYA RAO/AppData/Local/Microsoft/WindowsApps/python3.10.exe\" -m pip install ipykernel -U --force-reinstall'"
          ]
        }
      ],
      "source": [
        "# Compute the Structural Similarity Index (SSIM) between the two images, ensuring that the difference image is returned\n",
        "(score, diff) = structural_similarity(original_gray, tampered_gray, full=True)\n",
        "diff = (diff * 255).astype(\"uint8\")\n",
        "print(\"SSIM: {}\".format(score))"
      ]
    },
    {
      "cell_type": "markdown",
      "metadata": {
        "id": "n_ybmi5SKCxs"
      },
      "source": [
        "#### Structural similarity index helps us to determine exactly where in terms of x,y coordinates location, the image differences are. Here, we are trying to find similarities between the original and tampered image. The lower the SSIM score lower is the similarity."
      ]
    },
    {
      "cell_type": "code",
      "execution_count": null,
      "metadata": {
        "id": "KZyROfb0KCxt"
      },
      "outputs": [
        {
          "ename": "",
          "evalue": "",
          "output_type": "error",
          "traceback": [
            "\u001b[1;31mRunning cells with 'Python 3.10.8 64-bit (microsoft store)' requires ipykernel package.\n",
            "\u001b[1;31mRun the following command to install 'ipykernel' into the Python environment. \n",
            "\u001b[1;31mCommand: '\"c:/Users/DIVYA RAO/AppData/Local/Microsoft/WindowsApps/python3.10.exe\" -m pip install ipykernel -U --force-reinstall'"
          ]
        }
      ],
      "source": [
        "# Calculating threshold and contours \n",
        "thresh = cv2.threshold(diff, 0, 255, cv2.THRESH_BINARY_INV | cv2.THRESH_OTSU)[1]\n",
        "cnts = cv2.findContours(thresh.copy(), cv2.RETR_EXTERNAL, cv2.CHAIN_APPROX_SIMPLE)\n",
        "cnts = imutils.grab_contours(cnts)"
      ]
    },
    {
      "cell_type": "markdown",
      "metadata": {
        "id": "x6adrld3KCxt"
      },
      "source": [
        "#### Here we are using the threshold function of computer vision which applies an adaptive threshold to the image which is stored in the form array. This function transforms the grayscale image into a binary image using a mathematical formula.\n",
        "#### Find contours works on binary image and retrive the contours. This contours are a useful tool for shape analysis and recoginition. Grab contours grabs the appropriate value of the contours."
      ]
    },
    {
      "cell_type": "code",
      "execution_count": null,
      "metadata": {
        "id": "UF_GWIPUKCxu"
      },
      "outputs": [
        {
          "ename": "",
          "evalue": "",
          "output_type": "error",
          "traceback": [
            "\u001b[1;31mRunning cells with 'Python 3.10.8 64-bit (microsoft store)' requires ipykernel package.\n",
            "\u001b[1;31mRun the following command to install 'ipykernel' into the Python environment. \n",
            "\u001b[1;31mCommand: '\"c:/Users/DIVYA RAO/AppData/Local/Microsoft/WindowsApps/python3.10.exe\" -m pip install ipykernel -U --force-reinstall'"
          ]
        }
      ],
      "source": [
        "# loop over the contours\n",
        "for c in cnts:\n",
        "    # applying contours on image\n",
        "    (x, y, w, h) = cv2.boundingRect(c)\n",
        "    cv2.rectangle(original, (x, y), (x + w, y + h), (0, 0, 255), 2)\n",
        "    cv2.rectangle(tampered, (x, y), (x + w, y + h), (0, 0, 255), 2)"
      ]
    },
    {
      "cell_type": "markdown",
      "metadata": {
        "id": "kHj-YoySKCxu"
      },
      "source": [
        "#### Bounding rectangle helps in finding the ratio of width to height of bounding rectangle of the object. We compute the bounding box of the contour and then draw the bounding box on both input images to represent where the two images are different or not."
      ]
    },
    {
      "cell_type": "code",
      "execution_count": null,
      "metadata": {
        "colab": {
          "base_uri": "https://localhost:8080/",
          "height": 195
        },
        "id": "Wpmgi2zUKCxu",
        "outputId": "6f47b683-9cae-457e-e929-4c9869f11af0"
      },
      "outputs": [
        {
          "ename": "",
          "evalue": "",
          "output_type": "error",
          "traceback": [
            "\u001b[1;31mRunning cells with 'Python 3.10.8 64-bit (microsoft store)' requires ipykernel package.\n",
            "\u001b[1;31mRun the following command to install 'ipykernel' into the Python environment. \n",
            "\u001b[1;31mCommand: '\"c:/Users/DIVYA RAO/AppData/Local/Microsoft/WindowsApps/python3.10.exe\" -m pip install ipykernel -U --force-reinstall'"
          ]
        }
      ],
      "source": [
        "#Diplay original image with contour\n",
        "print('Original Format Image')\n",
        "Image.fromarray(original)"
      ]
    },
    {
      "cell_type": "code",
      "execution_count": null,
      "metadata": {
        "colab": {
          "base_uri": "https://localhost:8080/",
          "height": 195
        },
        "id": "vsbaDVGUKCxu",
        "outputId": "d905b766-9a44-4614-db7c-e695976f9746"
      },
      "outputs": [
        {
          "ename": "",
          "evalue": "",
          "output_type": "error",
          "traceback": [
            "\u001b[1;31mRunning cells with 'Python 3.10.8 64-bit (microsoft store)' requires ipykernel package.\n",
            "\u001b[1;31mRun the following command to install 'ipykernel' into the Python environment. \n",
            "\u001b[1;31mCommand: '\"c:/Users/DIVYA RAO/AppData/Local/Microsoft/WindowsApps/python3.10.exe\" -m pip install ipykernel -U --force-reinstall'"
          ]
        }
      ],
      "source": [
        "#Diplay tampered image with contour\n",
        "print('Tampered Image')\n",
        "Image.fromarray(tampered)"
      ]
    },
    {
      "cell_type": "code",
      "execution_count": null,
      "metadata": {
        "colab": {
          "base_uri": "https://localhost:8080/",
          "height": 195
        },
        "id": "U0bvDpCTKCxv",
        "outputId": "b8e45d09-8db9-4747-f508-ba43cdd3ca5e"
      },
      "outputs": [
        {
          "ename": "",
          "evalue": "",
          "output_type": "error",
          "traceback": [
            "\u001b[1;31mRunning cells with 'Python 3.10.8 64-bit (microsoft store)' requires ipykernel package.\n",
            "\u001b[1;31mRun the following command to install 'ipykernel' into the Python environment. \n",
            "\u001b[1;31mCommand: '\"c:/Users/DIVYA RAO/AppData/Local/Microsoft/WindowsApps/python3.10.exe\" -m pip install ipykernel -U --force-reinstall'"
          ]
        }
      ],
      "source": [
        "#Diplay difference image with black\n",
        "print('Different Image')\n",
        "Image.fromarray(diff)"
      ]
    },
    {
      "cell_type": "code",
      "execution_count": null,
      "metadata": {
        "colab": {
          "base_uri": "https://localhost:8080/",
          "height": 195
        },
        "id": "8iL-Yb8cKCxv",
        "outputId": "91d39122-9549-4515-e2ba-212988c86234"
      },
      "outputs": [
        {
          "ename": "",
          "evalue": "",
          "output_type": "error",
          "traceback": [
            "\u001b[1;31mRunning cells with 'Python 3.10.8 64-bit (microsoft store)' requires ipykernel package.\n",
            "\u001b[1;31mRun the following command to install 'ipykernel' into the Python environment. \n",
            "\u001b[1;31mCommand: '\"c:/Users/DIVYA RAO/AppData/Local/Microsoft/WindowsApps/python3.10.exe\" -m pip install ipykernel -U --force-reinstall'"
          ]
        }
      ],
      "source": [
        "#Display threshold image with white\n",
        "print('Threshold Image')\n",
        "Image.fromarray(thresh)"
      ]
    },
    {
      "cell_type": "markdown",
      "metadata": {
        "id": "C4_j1MgsKCxw"
      },
      "source": [
        "### Summary "
      ]
    },
    {
      "cell_type": "markdown",
      "metadata": {
        "id": "XRK7dMbQKCxx"
      },
      "source": [
        "#### Finding out structural similarity of the images helped us in finding the difference or similarity in the shape of the images. Similarly, finding out the threshold and contours based on those threshold for the images converted into grayscale binary also helped us in shape analysis and recognition. \n",
        "#### As, our SSIM is ~31.2% we can say that the image user provided is fake or tampered.\n",
        "#### Finally we visualized the differences and similarities between the images using by displaying the images with contours, difference and threshold.  "
      ]
    },
    {
      "cell_type": "markdown",
      "metadata": {
        "id": "49QBxuYoKCxx"
      },
      "source": [
        "### Scope"
      ]
    },
    {
      "cell_type": "markdown",
      "metadata": {
        "id": "0PecJVN2KCxx"
      },
      "source": [
        "#### This project can be used in different organizations where customers or users need to provide any kind of id in order to get themselves verified. The organization can use this project to find out whether the ID is original or fake. Similarly this can be used for any type of ID like adhar, voter id, etc."
      ]
    },
    {
      "cell_type": "code",
      "execution_count": null,
      "metadata": {
        "id": "t_VCdHTKKCxx"
      },
      "outputs": [
        {
          "ename": "",
          "evalue": "",
          "output_type": "error",
          "traceback": [
            "\u001b[1;31mRunning cells with 'Python 3.10.8 64-bit (microsoft store)' requires ipykernel package.\n",
            "\u001b[1;31mRun the following command to install 'ipykernel' into the Python environment. \n",
            "\u001b[1;31mCommand: '\"c:/Users/DIVYA RAO/AppData/Local/Microsoft/WindowsApps/python3.10.exe\" -m pip install ipykernel -U --force-reinstall'"
          ]
        }
      ],
      "source": []
    }
  ],
  "metadata": {
    "accelerator": "GPU",
    "colab": {
      "collapsed_sections": [],
      "name": "Pan Card Tampering.ipynb",
      "provenance": []
    },
    "kernelspec": {
      "display_name": "Python 3.10.8 64-bit (microsoft store)",
      "language": "python",
      "name": "python3"
    },
    "language_info": {
      "name": "python",
      "version": "3.10.9"
    },
    "vscode": {
      "interpreter": {
        "hash": "531bd8bf643d3a60bfba5e91ff8215f07932a843b5aa9e4145c9ee3e1daf1c0f"
      }
    }
  },
  "nbformat": 4,
  "nbformat_minor": 0
}
